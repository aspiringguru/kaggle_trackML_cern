{
 "cells": [
  {
   "cell_type": "code",
   "execution_count": 2,
   "metadata": {},
   "outputs": [
    {
     "data": {
      "text/plain": [
       "6"
      ]
     },
     "execution_count": 2,
     "metadata": {},
     "output_type": "execute_result"
    }
   ],
   "source": [
    "50%11"
   ]
  },
  {
   "cell_type": "code",
   "execution_count": 18,
   "metadata": {},
   "outputs": [
    {
     "name": "stdout",
     "output_type": "stream",
     "text": [
      "submission_50.csv.gz\n",
      "submission_100.csv.gz\n",
      "submission_150.csv.gz\n",
      "submission_200.csv.gz\n",
      "submission_250.csv.gz\n",
      "submission_300.csv.gz\n",
      "submission_350.csv.gz\n",
      "submission_400.csv.gz\n",
      "submission_450.csv.gz\n",
      "submission_500.csv.gz\n",
      "submission_550.csv.gz\n",
      "submission_600.csv.gz\n",
      "submission_650.csv.gz\n",
      "submission_700.csv.gz\n",
      "submission_750.csv.gz\n",
      "submission_800.csv.gz\n",
      "submission_850.csv.gz\n",
      "submission_900.csv.gz\n",
      "submission_950.csv.gz\n"
     ]
    }
   ],
   "source": [
    "for event_id in list(range(0,1000)):\n",
    "    #print (type(event_id), event_id)\n",
    "    if event_id%50==0 and event_id>0:\n",
    "        fileout = 'submission_'+str(event_id)+ '.csv.gz'\n",
    "        print (fileout)\n"
   ]
  },
  {
   "cell_type": "code",
   "execution_count": null,
   "metadata": {},
   "outputs": [],
   "source": []
  }
 ],
 "metadata": {
  "kernelspec": {
   "display_name": "Python [conda env:anaconda3]",
   "language": "python",
   "name": "conda-env-anaconda3-py"
  },
  "language_info": {
   "codemirror_mode": {
    "name": "ipython",
    "version": 3
   },
   "file_extension": ".py",
   "mimetype": "text/x-python",
   "name": "python",
   "nbconvert_exporter": "python",
   "pygments_lexer": "ipython3",
   "version": "3.6.4"
  }
 },
 "nbformat": 4,
 "nbformat_minor": 2
}
