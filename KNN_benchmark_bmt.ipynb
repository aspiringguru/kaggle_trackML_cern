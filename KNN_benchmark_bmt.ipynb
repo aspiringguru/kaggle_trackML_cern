{
 "cells": [
  {
   "cell_type": "markdown",
   "metadata": {},
   "source": [
    "based on https://www.kaggle.com/mikhailhushchyn/knn-approach"
   ]
  },
  {
   "cell_type": "code",
   "execution_count": 22,
   "metadata": {},
   "outputs": [],
   "source": [
    "%matplotlib inline\n",
    "import matplotlib.pyplot as plt\n",
    "import numpy as np\n",
    "import pandas as pd\n",
    "import os\n",
    "\n",
    "from trackml.dataset import load_event, load_dataset\n",
    "from trackml.score import score_event\n",
    "\n",
    "from sklearn.preprocessing import StandardScaler\n",
    "from sklearn.neighbors import KNeighborsClassifier\n",
    "\n",
    "import time  "
   ]
  },
  {
   "cell_type": "code",
   "execution_count": 3,
   "metadata": {},
   "outputs": [
    {
     "name": "stdout",
     "output_type": "stream",
     "text": [
      "Python version\n",
      "3.6.4 |Anaconda, Inc.| (default, Jan 16 2018, 18:10:19) \n",
      "[GCC 7.2.0]\n",
      "Version info.\n",
      "sys.version_info(major=3, minor=6, micro=4, releaselevel='final', serial=0)\n"
     ]
    }
   ],
   "source": [
    "import sys\n",
    "print(\"Python version\")\n",
    "print (sys.version)\n",
    "print(\"Version info.\")\n",
    "print (sys.version_info)\n",
    "#print (\"trackml.__version__:\", trackml.__version__)#weird error, worked in previous version"
   ]
  },
  {
   "cell_type": "code",
   "execution_count": 35,
   "metadata": {},
   "outputs": [],
   "source": [
    "dataDir = \"/home/ubuntu/kaggleData/\"\n",
    "path_to_train = dataDir+\"train_1\"\n",
    "path_to_test = dataDir+\"test\""
   ]
  },
  {
   "cell_type": "code",
   "execution_count": 11,
   "metadata": {},
   "outputs": [],
   "source": [
    "# This event is in Train_1\n",
    "#event_prefix = \"event000001008\"\n",
    "event_prefix = \"event000001000\""
   ]
  },
  {
   "cell_type": "code",
   "execution_count": 6,
   "metadata": {},
   "outputs": [],
   "source": [
    "hits, cells, particles, truth = load_event(os.path.join(path_to_train, event_prefix))"
   ]
  },
  {
   "cell_type": "code",
   "execution_count": 8,
   "metadata": {},
   "outputs": [
    {
     "name": "stdout",
     "output_type": "stream",
     "text": [
      "type(hits): <class 'pandas.core.frame.DataFrame'> (111867, 7)\n",
      "type(cells): <class 'pandas.core.frame.DataFrame'> (612411, 4)\n",
      "type(particles): <class 'pandas.core.frame.DataFrame'> (11128, 9)\n",
      "type(truth): <class 'pandas.core.frame.DataFrame'> (111867, 9)\n"
     ]
    }
   ],
   "source": [
    "print (\"type(hits):\", type(hits), hits.shape)\n",
    "print (\"type(cells):\", type(cells), cells.shape)\n",
    "print (\"type(particles):\", type(particles), particles.shape)\n",
    "print (\"type(truth):\", type(truth), truth.shape)"
   ]
  },
  {
   "cell_type": "code",
   "execution_count": 9,
   "metadata": {},
   "outputs": [
    {
     "data": {
      "text/html": [
       "<div>\n",
       "<style scoped>\n",
       "    .dataframe tbody tr th:only-of-type {\n",
       "        vertical-align: middle;\n",
       "    }\n",
       "\n",
       "    .dataframe tbody tr th {\n",
       "        vertical-align: top;\n",
       "    }\n",
       "\n",
       "    .dataframe thead th {\n",
       "        text-align: right;\n",
       "    }\n",
       "</style>\n",
       "<table border=\"1\" class=\"dataframe\">\n",
       "  <thead>\n",
       "    <tr style=\"text-align: right;\">\n",
       "      <th></th>\n",
       "      <th>hit_id</th>\n",
       "      <th>x</th>\n",
       "      <th>y</th>\n",
       "      <th>z</th>\n",
       "      <th>volume_id</th>\n",
       "      <th>layer_id</th>\n",
       "      <th>module_id</th>\n",
       "    </tr>\n",
       "  </thead>\n",
       "  <tbody>\n",
       "    <tr>\n",
       "      <th>0</th>\n",
       "      <td>1</td>\n",
       "      <td>-82.837997</td>\n",
       "      <td>-11.24020</td>\n",
       "      <td>-1502.5</td>\n",
       "      <td>7</td>\n",
       "      <td>2</td>\n",
       "      <td>1</td>\n",
       "    </tr>\n",
       "    <tr>\n",
       "      <th>1</th>\n",
       "      <td>2</td>\n",
       "      <td>-62.021400</td>\n",
       "      <td>-9.77127</td>\n",
       "      <td>-1502.5</td>\n",
       "      <td>7</td>\n",
       "      <td>2</td>\n",
       "      <td>1</td>\n",
       "    </tr>\n",
       "    <tr>\n",
       "      <th>2</th>\n",
       "      <td>3</td>\n",
       "      <td>-69.657799</td>\n",
       "      <td>-6.66082</td>\n",
       "      <td>-1502.5</td>\n",
       "      <td>7</td>\n",
       "      <td>2</td>\n",
       "      <td>1</td>\n",
       "    </tr>\n",
       "    <tr>\n",
       "      <th>3</th>\n",
       "      <td>4</td>\n",
       "      <td>-65.937302</td>\n",
       "      <td>-11.63420</td>\n",
       "      <td>-1502.5</td>\n",
       "      <td>7</td>\n",
       "      <td>2</td>\n",
       "      <td>1</td>\n",
       "    </tr>\n",
       "    <tr>\n",
       "      <th>4</th>\n",
       "      <td>5</td>\n",
       "      <td>-78.020599</td>\n",
       "      <td>-9.37532</td>\n",
       "      <td>-1502.5</td>\n",
       "      <td>7</td>\n",
       "      <td>2</td>\n",
       "      <td>1</td>\n",
       "    </tr>\n",
       "  </tbody>\n",
       "</table>\n",
       "</div>"
      ],
      "text/plain": [
       "   hit_id          x         y       z  volume_id  layer_id  module_id\n",
       "0       1 -82.837997 -11.24020 -1502.5          7         2          1\n",
       "1       2 -62.021400  -9.77127 -1502.5          7         2          1\n",
       "2       3 -69.657799  -6.66082 -1502.5          7         2          1\n",
       "3       4 -65.937302 -11.63420 -1502.5          7         2          1\n",
       "4       5 -78.020599  -9.37532 -1502.5          7         2          1"
      ]
     },
     "execution_count": 9,
     "metadata": {},
     "output_type": "execute_result"
    }
   ],
   "source": [
    "hits.head()"
   ]
  },
  {
   "cell_type": "code",
   "execution_count": 12,
   "metadata": {},
   "outputs": [],
   "source": [
    "def get_training_sample(path_to_data, event_names):\n",
    "\n",
    "    events = []\n",
    "    track_id = 0\n",
    "\n",
    "    for name in event_names:\n",
    "\n",
    "        # Read an event\n",
    "        hits, cells, particles, truth = load_event(os.path.join(path_to_data, name))\n",
    "\n",
    "        # Generate new vector of particle id\n",
    "        particle_ids = truth.particle_id.values\n",
    "        particle2track = {}\n",
    "        for pid in np.unique(particle_ids):\n",
    "            particle2track[pid] = track_id\n",
    "            track_id += 1\n",
    "        hits['particle_id'] = [particle2track[pid] for pid in particle_ids]\n",
    "\n",
    "        # Collect hits\n",
    "        events.append(hits)\n",
    "\n",
    "    # Put all hits into one sample with unique tracj ids\n",
    "    data = pd.concat(events, axis=0)\n",
    "\n",
    "    return data"
   ]
  },
  {
   "cell_type": "code",
   "execution_count": 14,
   "metadata": {},
   "outputs": [],
   "source": [
    "#nb: can extend this to use more data.\n",
    "start_event_id = 1000\n",
    "n_train_samples = 5\n",
    "train_event_names = [\"event0000{:05d}\".format(i) for i in range(start_event_id, start_event_id+n_train_samples)]\n",
    "train_data = get_training_sample(path_to_train, train_event_names)"
   ]
  },
  {
   "cell_type": "code",
   "execution_count": 18,
   "metadata": {},
   "outputs": [
    {
     "name": "stdout",
     "output_type": "stream",
     "text": [
      "type(train_event_names): <class 'list'> 5\n",
      "type(train_data): <class 'pandas.core.frame.DataFrame'> (583142, 8)\n"
     ]
    }
   ],
   "source": [
    "print (\"type(train_event_names):\", type(train_event_names), len(train_event_names))\n",
    "print (\"type(train_data):\", type(train_data), train_data.shape)"
   ]
  },
  {
   "cell_type": "code",
   "execution_count": 19,
   "metadata": {},
   "outputs": [
    {
     "data": {
      "text/plain": [
       "range(1000, 1005)"
      ]
     },
     "execution_count": 19,
     "metadata": {},
     "output_type": "execute_result"
    }
   ],
   "source": [
    "range(start_event_id, start_event_id+n_train_samples)"
   ]
  },
  {
   "cell_type": "code",
   "execution_count": 21,
   "metadata": {},
   "outputs": [],
   "source": [
    "class Clusterer(object):\n",
    "    \n",
    "    def __init__(self):\n",
    "        self.classifier = None\n",
    "        \n",
    "    \n",
    "    def _preprocess(self, hits):\n",
    "        \n",
    "        x = hits.x.values\n",
    "        y = hits.y.values\n",
    "        z = hits.z.values\n",
    "\n",
    "        r = np.sqrt(x**2 + y**2 + z**2)\n",
    "        hits['x2'] = x/r\n",
    "        hits['y2'] = y/r\n",
    "        hits['z2'] = z/r\n",
    "\n",
    "        ss = StandardScaler()\n",
    "        X = ss.fit_transform(hits[['x2', 'y2', 'z2']].values)\n",
    "        \n",
    "        return X\n",
    "    \n",
    "    def fit(self, hits):\n",
    "        \n",
    "        X = self._preprocess(hits)\n",
    "        y = hits.particle_id.values\n",
    "        \n",
    "        self.classifier = KNeighborsClassifier(n_neighbors=1, n_jobs=-1)\n",
    "        self.classifier.fit(X, y)\n",
    "    \n",
    "    \n",
    "    def predict(self, hits):\n",
    "        \n",
    "        X = self._preprocess(hits)\n",
    "        labels = self.classifier.predict(X)\n",
    "        \n",
    "        return labels"
   ]
  },
  {
   "cell_type": "code",
   "execution_count": 24,
   "metadata": {},
   "outputs": [
    {
     "name": "stdout",
     "output_type": "stream",
     "text": [
      "0.51 seconds elapsed\n"
     ]
    }
   ],
   "source": [
    "model = Clusterer()\n",
    "t1 = time.clock()\n",
    "model.fit(train_data)\n",
    "t2 = time.clock()\n",
    "print ('%0.2f seconds elapsed' % (t2-t1))"
   ]
  },
  {
   "cell_type": "code",
   "execution_count": 25,
   "metadata": {},
   "outputs": [],
   "source": [
    "path_to_event = os.path.join(path_to_train, \"event0000{:05d}\".format(start_event_id + n_train_samples + 1))\n",
    "hits, cells, particles, truth = load_event(path_to_event)"
   ]
  },
  {
   "cell_type": "code",
   "execution_count": 26,
   "metadata": {},
   "outputs": [
    {
     "name": "stdout",
     "output_type": "stream",
     "text": [
      "type(hits): <class 'pandas.core.frame.DataFrame'> (118534, 7)\n",
      "type(cells): <class 'pandas.core.frame.DataFrame'> (651227, 4)\n",
      "type(particles): <class 'pandas.core.frame.DataFrame'> (11773, 9)\n",
      "type(truth): <class 'pandas.core.frame.DataFrame'> (118534, 9)\n"
     ]
    }
   ],
   "source": [
    "print (\"type(hits):\", type(hits), hits.shape)\n",
    "print (\"type(cells):\", type(cells), cells.shape)\n",
    "print (\"type(particles):\", type(particles), particles.shape)\n",
    "print (\"type(truth):\", type(truth), truth.shape)"
   ]
  },
  {
   "cell_type": "code",
   "execution_count": 27,
   "metadata": {},
   "outputs": [
    {
     "name": "stdout",
     "output_type": "stream",
     "text": [
      "CPU times: user 20.2 s, sys: 4 ms, total: 20.2 s\n",
      "Wall time: 19.6 s\n"
     ]
    }
   ],
   "source": [
    "%%time\n",
    "# Warning: it takes about 30s per one event\n",
    "labels = model.predict(hits)"
   ]
  },
  {
   "cell_type": "code",
   "execution_count": 31,
   "metadata": {},
   "outputs": [
    {
     "name": "stdout",
     "output_type": "stream",
     "text": [
      "type(labels): <class 'numpy.ndarray'> (118534,)\n",
      "[    0 37993 33157 22339 15135]\n"
     ]
    }
   ],
   "source": [
    "print (\"type(labels):\", type(labels), labels.shape)\n",
    "print (labels[0:5])"
   ]
  },
  {
   "cell_type": "code",
   "execution_count": 32,
   "metadata": {},
   "outputs": [],
   "source": [
    "def create_one_event_submission(event_id, hits, labels):\n",
    "    sub_data = np.column_stack(([event_id]*len(hits), hits.hit_id.values, labels))\n",
    "    submission = pd.DataFrame(data=sub_data, columns=[\"event_id\", \"hit_id\", \"track_id\"]).astype(int)\n",
    "    return submission"
   ]
  },
  {
   "cell_type": "code",
   "execution_count": 33,
   "metadata": {},
   "outputs": [],
   "source": [
    "submission = create_one_event_submission(0, hits, labels)\n",
    "score = score_event(truth, submission)"
   ]
  },
  {
   "cell_type": "code",
   "execution_count": 34,
   "metadata": {},
   "outputs": [
    {
     "name": "stdout",
     "output_type": "stream",
     "text": [
      "Your score:  0.09900948072230796\n"
     ]
    }
   ],
   "source": [
    "print(\"Your score: \", score)"
   ]
  },
  {
   "cell_type": "code",
   "execution_count": 40,
   "metadata": {},
   "outputs": [],
   "source": [
    "#load_dataset(path_to_train, skip=1000, nevents=5)\n",
    "#<generator object load_dataset at 0x7f18cfb68bf8>"
   ]
  },
  {
   "cell_type": "code",
   "execution_count": 37,
   "metadata": {},
   "outputs": [
    {
     "name": "stdout",
     "output_type": "stream",
     "text": [
      "Score for event 2000: 0.107\n",
      "Score for event 2001: 0.114\n",
      "Score for event 2002: 0.105\n",
      "Score for event 2003: 0.105\n",
      "Score for event 2004: 0.102\n",
      "Mean score: 0.107\n"
     ]
    }
   ],
   "source": [
    "dataset_submissions = []\n",
    "dataset_scores = []\n",
    "skip_start = 1000\n",
    "num_events = 5\n",
    "\n",
    "for event_id, hits, cells, particles, truth in load_dataset(path_to_train, skip=skip_start, nevents=num_events):\n",
    "        \n",
    "    t1 = time.clock()\n",
    "    # Track pattern recognition\n",
    "    labels = model.predict(hits)\n",
    "        \n",
    "    # Prepare submission for an event\n",
    "    one_submission = create_one_event_submission(event_id, hits, labels)\n",
    "    dataset_submissions.append(one_submission)\n",
    "    \n",
    "    # Score for the event\n",
    "    score = score_event(truth, one_submission)\n",
    "    dataset_scores.append(score)\n",
    "    \n",
    "    t2 = time.clock()\n",
    "    print(\"Score for event %d: %.3f, %0.2f seconds elapsed\" % (event_id, score, t2-t1))\n",
    "    \n",
    "print('Mean score: %.3f' % (np.mean(dataset_scores)))"
   ]
  },
  {
   "cell_type": "code",
   "execution_count": 39,
   "metadata": {},
   "outputs": [
    {
     "name": "stdout",
     "output_type": "stream",
     "text": [
      "dataset_scores: <class 'list'> 5\n"
     ]
    }
   ],
   "source": [
    "print (\"dataset_scores:\", type(dataset_scores), len(dataset_scores))"
   ]
  },
  {
   "cell_type": "code",
   "execution_count": 43,
   "metadata": {},
   "outputs": [
    {
     "name": "stdout",
     "output_type": "stream",
     "text": [
      "Event ID: %d, %0.2f seconds elapsed (0, 21.364789000000002)\n",
      "Event ID: %d, %0.2f seconds elapsed (1, 22.442240000000027)\n",
      "Event ID: %d, %0.2f seconds elapsed (2, 18.705468999999994)\n",
      "Event ID: %d, %0.2f seconds elapsed (3, 19.519570999999985)\n",
      "Event ID: %d, %0.2f seconds elapsed (4, 21.538152999999966)\n",
      "Event ID: %d, %0.2f seconds elapsed (5, 18.770629000000042)\n",
      "Event ID: %d, %0.2f seconds elapsed (6, 18.739829999999984)\n",
      "Event ID: %d, %0.2f seconds elapsed (7, 21.643175999999983)\n",
      "Event ID: %d, %0.2f seconds elapsed (8, 20.690717000000006)\n",
      "Event ID: %d, %0.2f seconds elapsed (9, 20.35071800000003)\n",
      "Event ID: %d, %0.2f seconds elapsed (10, 21.04607699999997)\n",
      "Event ID: %d, %0.2f seconds elapsed (11, 18.737503000000004)\n",
      "Event ID: %d, %0.2f seconds elapsed (12, 17.97850699999998)\n",
      "Event ID: %d, %0.2f seconds elapsed (13, 20.74895399999997)\n",
      "Event ID: %d, %0.2f seconds elapsed (14, 17.78191899999996)\n",
      "Event ID: %d, %0.2f seconds elapsed (15, 14.785299000000009)\n",
      "Event ID: %d, %0.2f seconds elapsed (16, 16.375769000000105)\n",
      "Event ID: %d, %0.2f seconds elapsed (17, 25.24161099999992)\n",
      "Event ID: %d, %0.2f seconds elapsed (18, 16.469928000000095)\n",
      "Event ID: %d, %0.2f seconds elapsed (19, 18.242719999999963)\n",
      "Event ID: %d, %0.2f seconds elapsed (20, 12.027388999999971)\n",
      "Event ID: %d, %0.2f seconds elapsed (21, 18.660390000000007)\n",
      "Event ID: %d, %0.2f seconds elapsed (22, 19.24291800000003)\n",
      "Event ID: %d, %0.2f seconds elapsed (23, 20.945100000000025)\n",
      "Event ID: %d, %0.2f seconds elapsed (24, 21.03481899999997)\n",
      "Event ID: %d, %0.2f seconds elapsed (25, 19.461418999999978)\n",
      "Event ID: %d, %0.2f seconds elapsed (26, 15.875997000000098)\n",
      "Event ID: %d, %0.2f seconds elapsed (27, 15.16092100000003)\n",
      "Event ID: %d, %0.2f seconds elapsed (28, 19.07198100000005)\n",
      "Event ID: %d, %0.2f seconds elapsed (29, 14.633155999999985)\n",
      "Event ID: %d, %0.2f seconds elapsed (30, 20.246036000000004)\n",
      "Event ID: %d, %0.2f seconds elapsed (31, 17.777678000000037)\n",
      "Event ID: %d, %0.2f seconds elapsed (32, 13.261495000000082)\n",
      "Event ID: %d, %0.2f seconds elapsed (33, 13.847128999999995)\n",
      "Event ID: %d, %0.2f seconds elapsed (34, 22.86190499999998)\n",
      "Event ID: %d, %0.2f seconds elapsed (35, 18.0985730000001)\n",
      "Event ID: %d, %0.2f seconds elapsed (36, 17.208394)\n",
      "Event ID: %d, %0.2f seconds elapsed (37, 22.317616000000044)\n",
      "Event ID: %d, %0.2f seconds elapsed (38, 18.611139999999978)\n",
      "Event ID: %d, %0.2f seconds elapsed (39, 22.024253999999928)\n",
      "Event ID: %d, %0.2f seconds elapsed (40, 21.269696000000067)\n",
      "Event ID: %d, %0.2f seconds elapsed (41, 19.624330999999984)\n",
      "Event ID: %d, %0.2f seconds elapsed (42, 19.127575999999976)\n",
      "Event ID: %d, %0.2f seconds elapsed (43, 19.888965999999982)\n",
      "Event ID: %d, %0.2f seconds elapsed (44, 24.237943000000087)\n",
      "Event ID: %d, %0.2f seconds elapsed (45, 15.31639499999983)\n",
      "Event ID: %d, %0.2f seconds elapsed (46, 16.421178000000054)\n",
      "Event ID: %d, %0.2f seconds elapsed (47, 14.756817000000183)\n",
      "Event ID: %d, %0.2f seconds elapsed (48, 18.343871000000036)\n",
      "Event ID: %d, %0.2f seconds elapsed (49, 21.961208999999826)\n",
      "Event ID: %d, %0.2f seconds elapsed (50, 21.271617000000106)\n",
      "Event ID: %d, %0.2f seconds elapsed (51, 20.21608100000003)\n",
      "Event ID: %d, %0.2f seconds elapsed (52, 20.351936000000023)\n",
      "Event ID: %d, %0.2f seconds elapsed (53, 16.906316999999945)\n",
      "Event ID: %d, %0.2f seconds elapsed (54, 21.520342000000028)\n",
      "Event ID: %d, %0.2f seconds elapsed (55, 16.678236999999854)\n",
      "Event ID: %d, %0.2f seconds elapsed (56, 20.08585200000016)\n",
      "Event ID: %d, %0.2f seconds elapsed (57, 22.35662000000002)\n",
      "Event ID: %d, %0.2f seconds elapsed (58, 21.938207999999804)\n",
      "Event ID: %d, %0.2f seconds elapsed (59, 20.28591500000016)\n",
      "Event ID: %d, %0.2f seconds elapsed (60, 17.72177099999999)\n",
      "Event ID: %d, %0.2f seconds elapsed (61, 18.223980999999867)\n",
      "Event ID: %d, %0.2f seconds elapsed (62, 20.116395999999895)\n",
      "Event ID: %d, %0.2f seconds elapsed (63, 21.250732999999855)\n",
      "Event ID: %d, %0.2f seconds elapsed (64, 20.421708999999964)\n",
      "Event ID: %d, %0.2f seconds elapsed (65, 16.37186100000008)\n",
      "Event ID: %d, %0.2f seconds elapsed (66, 19.583761000000095)\n",
      "Event ID: %d, %0.2f seconds elapsed (67, 23.176738000000114)\n",
      "Event ID: %d, %0.2f seconds elapsed (68, 17.294155000000046)\n",
      "Event ID: %d, %0.2f seconds elapsed (69, 15.135721999999987)\n",
      "Event ID: %d, %0.2f seconds elapsed (70, 17.420490999999856)\n",
      "Event ID: %d, %0.2f seconds elapsed (71, 21.0699689999999)\n",
      "Event ID: %d, %0.2f seconds elapsed (72, 18.399631)\n",
      "Event ID: %d, %0.2f seconds elapsed (73, 19.367951000000176)\n",
      "Event ID: %d, %0.2f seconds elapsed (74, 20.407825999999886)\n",
      "Event ID: %d, %0.2f seconds elapsed (75, 16.995251000000053)\n",
      "Event ID: %d, %0.2f seconds elapsed (76, 17.658653999999842)\n",
      "Event ID: %d, %0.2f seconds elapsed (77, 15.360447999999906)\n",
      "Event ID: %d, %0.2f seconds elapsed (78, 19.529109999999946)\n",
      "Event ID: %d, %0.2f seconds elapsed (79, 15.440817999999808)\n",
      "Event ID: %d, %0.2f seconds elapsed (80, 24.19963400000006)\n",
      "Event ID: %d, %0.2f seconds elapsed (81, 18.552344000000176)\n",
      "Event ID: %d, %0.2f seconds elapsed (82, 17.116917000000058)\n",
      "Event ID: %d, %0.2f seconds elapsed (83, 20.97094100000004)\n",
      "Event ID: %d, %0.2f seconds elapsed (84, 16.273057999999992)\n",
      "Event ID: %d, %0.2f seconds elapsed (85, 20.001797000000124)\n",
      "Event ID: %d, %0.2f seconds elapsed (86, 22.316283999999996)\n",
      "Event ID: %d, %0.2f seconds elapsed (87, 21.783726000000115)\n",
      "Event ID: %d, %0.2f seconds elapsed (88, 21.19969500000002)\n",
      "Event ID: %d, %0.2f seconds elapsed (89, 21.572881000000052)\n",
      "Event ID: %d, %0.2f seconds elapsed (90, 19.737038999999868)\n",
      "Event ID: %d, %0.2f seconds elapsed (91, 17.843202999999903)\n",
      "Event ID: %d, %0.2f seconds elapsed (92, 17.001474000000144)\n",
      "Event ID: %d, %0.2f seconds elapsed (93, 25.184163000000126)\n",
      "Event ID: %d, %0.2f seconds elapsed (94, 14.541922000000113)\n",
      "Event ID: %d, %0.2f seconds elapsed (95, 20.70706999999993)\n",
      "Event ID: %d, %0.2f seconds elapsed (96, 18.030113000000256)\n",
      "Event ID: %d, %0.2f seconds elapsed (97, 19.972216000000117)\n",
      "Event ID: %d, %0.2f seconds elapsed (98, 21.28367399999979)\n",
      "Event ID: %d, %0.2f seconds elapsed (99, 20.593459000000166)\n",
      "Event ID: %d, %0.2f seconds elapsed (100, 24.082582999999886)\n",
      "Event ID: %d, %0.2f seconds elapsed (101, 23.843879000000015)\n",
      "Event ID: %d, %0.2f seconds elapsed (102, 20.4825679999999)\n",
      "Event ID: %d, %0.2f seconds elapsed (103, 17.918624000000364)\n",
      "Event ID: %d, %0.2f seconds elapsed (104, 21.09488999999985)\n",
      "Event ID: %d, %0.2f seconds elapsed (105, 15.192301999999927)\n",
      "Event ID: %d, %0.2f seconds elapsed (106, 20.09612900000002)\n",
      "Event ID: %d, %0.2f seconds elapsed (107, 23.941221999999925)\n",
      "Event ID: %d, %0.2f seconds elapsed (108, 20.319531000000097)\n",
      "Event ID: %d, %0.2f seconds elapsed (109, 20.85669000000007)\n",
      "Event ID: %d, %0.2f seconds elapsed (110, 20.21871199999987)\n",
      "Event ID: %d, %0.2f seconds elapsed (111, 21.13645899999983)\n",
      "Event ID: %d, %0.2f seconds elapsed (112, 16.73041000000012)\n",
      "Event ID: %d, %0.2f seconds elapsed (113, 23.408316999999897)\n",
      "Event ID: %d, %0.2f seconds elapsed (114, 15.045294000000013)\n",
      "Event ID: %d, %0.2f seconds elapsed (115, 16.400752999999895)\n",
      "Event ID: %d, %0.2f seconds elapsed (116, 21.496957000000293)\n",
      "Event ID: %d, %0.2f seconds elapsed (117, 20.973265000000083)\n",
      "Event ID: %d, %0.2f seconds elapsed (118, 18.21599500000002)\n",
      "Event ID: %d, %0.2f seconds elapsed (119, 13.058007000000089)\n",
      "Event ID: %d, %0.2f seconds elapsed (120, 18.517432999999983)\n",
      "Event ID: %d, %0.2f seconds elapsed (121, 20.689534999999978)\n",
      "Event ID: %d, %0.2f seconds elapsed (122, 15.24228200000016)\n",
      "Event ID: %d, %0.2f seconds elapsed (123, 17.608282000000145)\n",
      "Event ID: %d, %0.2f seconds elapsed (124, 18.89133300000003)\n"
     ]
    }
   ],
   "source": [
    "test_dataset_submissions = []\n",
    "csv_save_interval = 100\n",
    "\n",
    "create_submission = True # True for submission \n",
    "t0 = time.clock()\n",
    "\n",
    "\n",
    "if create_submission:\n",
    "    print (\"creating submission.\")\n",
    "    for event_id, hits, cells in load_dataset(path_to_test, parts=['hits', 'cells']):\n",
    "\n",
    "        t1 = time.clock()\n",
    "        # Track pattern recognition\n",
    "        labels = model.predict(hits)\n",
    "\n",
    "        # Prepare submission for an event\n",
    "        one_submission = create_one_event_submission(event_id, hits, labels)\n",
    "        test_dataset_submissions.append(one_submission)\n",
    "        \n",
    "        t2 = time.clock()\n",
    "        print('Event ID: %d, %0.2f seconds elapsed, %d', % (event_id, t2-t1, test_dataset_submissions.shape))\n",
    "        if event_id%csv_save_interval ==0 and event_id>0:\n",
    "            fileout = 'submission_'+str(event_id)+ '.csv.gz'\n",
    "            submission = pd.concat(test_dataset_submissions, axis=0)\n",
    "            submission.to_csv(fileout, index=False, compression='gzip')            \n",
    "\n",
    "    # Create submission file\n",
    "    submission = pd.concat(test_dataset_submissions, axis=0)\n",
    "    submission.to_csv('submission.csv.gz', index=False, compression='gzip')\n",
    "print(\"total time elapsed:\", time.clock()-t0)"
   ]
  },
  {
   "cell_type": "code",
   "execution_count": null,
   "metadata": {},
   "outputs": [],
   "source": []
  }
 ],
 "metadata": {
  "kernelspec": {
   "display_name": "Python [conda env:anaconda3]",
   "language": "python",
   "name": "conda-env-anaconda3-py"
  },
  "language_info": {
   "codemirror_mode": {
    "name": "ipython",
    "version": 3
   },
   "file_extension": ".py",
   "mimetype": "text/x-python",
   "name": "python",
   "nbconvert_exporter": "python",
   "pygments_lexer": "ipython3",
   "version": "3.6.4"
  }
 },
 "nbformat": 4,
 "nbformat_minor": 2
}
